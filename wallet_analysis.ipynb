{
 "cells": [
  {
   "cell_type": "code",
   "execution_count": 1,
   "id": "af1780ef-d343-403a-942b-e872af4dda49",
   "metadata": {},
   "outputs": [],
   "source": [
    "from pathlib import Path\n",
    "\n",
    "import numpy as np\n",
    "import pandas as pd\n",
    "import matplotlib.pyplot as plt\n",
    "import matplotlib.ticker as ticker\n",
    "import seaborn as sns"
   ]
  },
  {
   "cell_type": "code",
   "execution_count": 2,
   "id": "0bd943ac-ba33-4c90-8b6f-eb4fe1f5884e",
   "metadata": {},
   "outputs": [],
   "source": [
    "def create_donut_charts(dataframes, column_names, titles=None):\n",
    "    if titles is None:\n",
    "        titles = column_names\n",
    "        \n",
    "    num_bar_charts = len(dataframes)\n",
    "    fig, axs = plt.subplots(1, num_bar_charts, figsize=(7.5 * num_bar_charts, 6))\n",
    "\n",
    "    for i, df in enumerate(dataframes):\n",
    "        values = df[column_names[i]]\n",
    "        labels = [*df.index]\n",
    "        print(values)\n",
    "        total = sum(values)\n",
    "        axs[i].pie(\n",
    "            values,\n",
    "            labels=labels,\n",
    "            # colors=colors,\n",
    "            autopct=lambda p: f\"{p:.0f}% ({p * total / 100:.0f})\" if p > 0 else \"0\",\n",
    "            startangle=140,\n",
    "            wedgeprops=dict(width=0.25, edgecolor=\"w\", linewidth=0.25),\n",
    "            textprops=dict(color=\"black\", fontsize=10),\n",
    "        )\n",
    "        axs[i].set_title(titles[i])\n",
    "        axs[i].axis(\"equal\")  # Equal aspect ratio ensures that pie is drawn as a circle.\n",
    "\n",
    "    plt.tight_layout()\n",
    "    # plt.show()\n",
    "    return fig"
   ]
  },
  {
   "cell_type": "code",
   "execution_count": 2,
   "id": "bd69159b-536f-4a5e-99e7-9dc0a779ea24",
   "metadata": {},
   "outputs": [],
   "source": [
    "outpath = Path('results/wallet_analysis')\n",
    "outpath.mkdir(exist_ok=True)\n",
    "\n",
    "wallet_df = pd.read_csv(Path('data/stETH_token_distribution.csv'))\n",
    "wallet_df.loc[wallet_df.type.isna(), 'type'] = 'Private'\n",
    "wallet_df['total_token_share'] = wallet_df['total'] / wallet_df['total'].sum() * 100"
   ]
  },
  {
   "cell_type": "code",
   "execution_count": 14,
   "id": "65749710-95fb-4f09-8279-5802151bdd3d",
   "metadata": {},
   "outputs": [
    {
     "data": {
      "text/html": [
       "<div>\n",
       "<style scoped>\n",
       "    .dataframe tbody tr th:only-of-type {\n",
       "        vertical-align: middle;\n",
       "    }\n",
       "\n",
       "    .dataframe tbody tr th {\n",
       "        vertical-align: top;\n",
       "    }\n",
       "\n",
       "    .dataframe thead th {\n",
       "        text-align: right;\n",
       "    }\n",
       "</style>\n",
       "<table border=\"1\" class=\"dataframe\">\n",
       "  <thead>\n",
       "    <tr style=\"text-align: right;\">\n",
       "      <th></th>\n",
       "      <th>address</th>\n",
       "      <th>stETH</th>\n",
       "      <th>wstETH</th>\n",
       "      <th>total</th>\n",
       "      <th>label</th>\n",
       "      <th>type</th>\n",
       "      <th>protocol_type</th>\n",
       "      <th>total_token_share</th>\n",
       "    </tr>\n",
       "  </thead>\n",
       "  <tbody>\n",
       "    <tr>\n",
       "      <th>0</th>\n",
       "      <td>0x0b925ed163218f6662a35e0f0371ac234f9e9371</td>\n",
       "      <td>0.000000</td>\n",
       "      <td>994724.6312</td>\n",
       "      <td>1.167508e+06</td>\n",
       "      <td>🤖 Aave: awstETH Token [0x0b925e]</td>\n",
       "      <td>Contract</td>\n",
       "      <td>AAVE</td>\n",
       "      <td>13.677075</td>\n",
       "    </tr>\n",
       "    <tr>\n",
       "      <th>1</th>\n",
       "      <td>0x93c4b944d05dfe6df7645a86cd2206016c51564d</td>\n",
       "      <td>910378.340600</td>\n",
       "      <td>0.0000</td>\n",
       "      <td>9.103783e+05</td>\n",
       "      <td>🤖 EigenLayer: stETH Strategy [0x93c4b9]</td>\n",
       "      <td>Contract</td>\n",
       "      <td>Leverage/Lending</td>\n",
       "      <td>10.664860</td>\n",
       "    </tr>\n",
       "    <tr>\n",
       "      <th>2</th>\n",
       "      <td>0x12b54025c112aa61face2cdb7118740875a566e9</td>\n",
       "      <td>0.000000</td>\n",
       "      <td>595092.5006</td>\n",
       "      <td>6.984601e+05</td>\n",
       "      <td>🤖 Spark Protocol: wstETH_a Token [0x12b540]</td>\n",
       "      <td>Contract</td>\n",
       "      <td>Leverage/Lending</td>\n",
       "      <td>8.182289</td>\n",
       "    </tr>\n",
       "    <tr>\n",
       "      <th>3</th>\n",
       "      <td>0x98078db053902644191f93988341e31289e1c8fe</td>\n",
       "      <td>453283.812900</td>\n",
       "      <td>0.0000</td>\n",
       "      <td>4.532838e+05</td>\n",
       "      <td>Private Transactions Miner [0x6b764a]</td>\n",
       "      <td>Private</td>\n",
       "      <td>NaN</td>\n",
       "      <td>5.310109</td>\n",
       "    </tr>\n",
       "    <tr>\n",
       "      <th>4</th>\n",
       "      <td>0x248ccbf4864221fc0e840f29bb042ad5bfc89b5c</td>\n",
       "      <td>0.000000</td>\n",
       "      <td>232955.5969</td>\n",
       "      <td>2.734200e+05</td>\n",
       "      <td>🤖 MakerDAO: MCD JOIN WSTETH B [0x248ccb]</td>\n",
       "      <td>Contract</td>\n",
       "      <td>Maker</td>\n",
       "      <td>3.203048</td>\n",
       "    </tr>\n",
       "    <tr>\n",
       "      <th>...</th>\n",
       "      <td>...</td>\n",
       "      <td>...</td>\n",
       "      <td>...</td>\n",
       "      <td>...</td>\n",
       "      <td>...</td>\n",
       "      <td>...</td>\n",
       "      <td>...</td>\n",
       "      <td>...</td>\n",
       "    </tr>\n",
       "    <tr>\n",
       "      <th>1203</th>\n",
       "      <td>0x3fa930a14c9a35b6d4b3babaae395384eadd0d1f</td>\n",
       "      <td>510.591493</td>\n",
       "      <td>0.0000</td>\n",
       "      <td>5.105915e+02</td>\n",
       "      <td>NaN</td>\n",
       "      <td>Private</td>\n",
       "      <td>NaN</td>\n",
       "      <td>0.005981</td>\n",
       "    </tr>\n",
       "    <tr>\n",
       "      <th>1204</th>\n",
       "      <td>0xc4652535aad91abbb4cc90f3f474e9f765003e05</td>\n",
       "      <td>509.909753</td>\n",
       "      <td>0.0000</td>\n",
       "      <td>5.099098e+02</td>\n",
       "      <td>NaN</td>\n",
       "      <td>Private</td>\n",
       "      <td>NaN</td>\n",
       "      <td>0.005973</td>\n",
       "    </tr>\n",
       "    <tr>\n",
       "      <th>1205</th>\n",
       "      <td>0xa2694887f13a7bfee00824ba02b38ae848779136</td>\n",
       "      <td>509.548730</td>\n",
       "      <td>0.0000</td>\n",
       "      <td>5.095487e+02</td>\n",
       "      <td>NaN</td>\n",
       "      <td>Private</td>\n",
       "      <td>NaN</td>\n",
       "      <td>0.005969</td>\n",
       "    </tr>\n",
       "    <tr>\n",
       "      <th>1206</th>\n",
       "      <td>0x3f1131d2107c6fd8d1f7f3808dfccefe5afcf6fe</td>\n",
       "      <td>509.286951</td>\n",
       "      <td>0.0000</td>\n",
       "      <td>5.092870e+02</td>\n",
       "      <td>NaN</td>\n",
       "      <td>Private</td>\n",
       "      <td>NaN</td>\n",
       "      <td>0.005966</td>\n",
       "    </tr>\n",
       "    <tr>\n",
       "      <th>1207</th>\n",
       "      <td>0x76425df022f372ff5475ec287c113ccd554cf479</td>\n",
       "      <td>507.666718</td>\n",
       "      <td>0.0000</td>\n",
       "      <td>5.076667e+02</td>\n",
       "      <td>NaN</td>\n",
       "      <td>Private</td>\n",
       "      <td>NaN</td>\n",
       "      <td>0.005947</td>\n",
       "    </tr>\n",
       "  </tbody>\n",
       "</table>\n",
       "<p>1208 rows × 8 columns</p>\n",
       "</div>"
      ],
      "text/plain": [
       "                                         address          stETH       wstETH  \\\n",
       "0     0x0b925ed163218f6662a35e0f0371ac234f9e9371       0.000000  994724.6312   \n",
       "1     0x93c4b944d05dfe6df7645a86cd2206016c51564d  910378.340600       0.0000   \n",
       "2     0x12b54025c112aa61face2cdb7118740875a566e9       0.000000  595092.5006   \n",
       "3     0x98078db053902644191f93988341e31289e1c8fe  453283.812900       0.0000   \n",
       "4     0x248ccbf4864221fc0e840f29bb042ad5bfc89b5c       0.000000  232955.5969   \n",
       "...                                          ...            ...          ...   \n",
       "1203  0x3fa930a14c9a35b6d4b3babaae395384eadd0d1f     510.591493       0.0000   \n",
       "1204  0xc4652535aad91abbb4cc90f3f474e9f765003e05     509.909753       0.0000   \n",
       "1205  0xa2694887f13a7bfee00824ba02b38ae848779136     509.548730       0.0000   \n",
       "1206  0x3f1131d2107c6fd8d1f7f3808dfccefe5afcf6fe     509.286951       0.0000   \n",
       "1207  0x76425df022f372ff5475ec287c113ccd554cf479     507.666718       0.0000   \n",
       "\n",
       "             total                                        label      type  \\\n",
       "0     1.167508e+06             🤖 Aave: awstETH Token [0x0b925e]  Contract   \n",
       "1     9.103783e+05      🤖 EigenLayer: stETH Strategy [0x93c4b9]  Contract   \n",
       "2     6.984601e+05  🤖 Spark Protocol: wstETH_a Token [0x12b540]  Contract   \n",
       "3     4.532838e+05        Private Transactions Miner [0x6b764a]   Private   \n",
       "4     2.734200e+05     🤖 MakerDAO: MCD JOIN WSTETH B [0x248ccb]  Contract   \n",
       "...            ...                                          ...       ...   \n",
       "1203  5.105915e+02                                          NaN   Private   \n",
       "1204  5.099098e+02                                          NaN   Private   \n",
       "1205  5.095487e+02                                          NaN   Private   \n",
       "1206  5.092870e+02                                          NaN   Private   \n",
       "1207  5.076667e+02                                          NaN   Private   \n",
       "\n",
       "         protocol_type  total_token_share  \n",
       "0                 AAVE          13.677075  \n",
       "1     Leverage/Lending          10.664860  \n",
       "2     Leverage/Lending           8.182289  \n",
       "3                  NaN           5.310109  \n",
       "4                Maker           3.203048  \n",
       "...                ...                ...  \n",
       "1203               NaN           0.005981  \n",
       "1204               NaN           0.005973  \n",
       "1205               NaN           0.005969  \n",
       "1206               NaN           0.005966  \n",
       "1207               NaN           0.005947  \n",
       "\n",
       "[1208 rows x 8 columns]"
      ]
     },
     "execution_count": 14,
     "metadata": {},
     "output_type": "execute_result"
    }
   ],
   "source": [
    "wallet_df"
   ]
  },
  {
   "cell_type": "code",
   "execution_count": 3,
   "id": "83a2f448-6e03-4462-b54f-e493af7b0013",
   "metadata": {},
   "outputs": [
    {
     "data": {
      "text/plain": [
       "Private     1037\n",
       "Contract     152\n",
       "Custody       11\n",
       "CEX            8\n",
       "Name: type, dtype: int64"
      ]
     },
     "execution_count": 3,
     "metadata": {},
     "output_type": "execute_result"
    }
   ],
   "source": [
    "wallet_df.type.value_counts()"
   ]
  },
  {
   "cell_type": "code",
   "execution_count": 4,
   "id": "63107645-be2b-4d28-883f-5f296d144adb",
   "metadata": {},
   "outputs": [
    {
     "data": {
      "text/plain": [
       "<seaborn.axisgrid.FacetGrid at 0x7f6fc20b9b50>"
      ]
     },
     "execution_count": 4,
     "metadata": {},
     "output_type": "execute_result"
    },
    {
     "data": {
      "image/png": "[encoded data removed]",
      "text/plain": [
       "<Figure size 500x500 with 1 Axes>"
      ]
     },
     "metadata": {},
     "output_type": "display_data"
    }
   ],
   "source": [
    "sns.displot(wallet_df['total_token_share'], log_scale=True)"
   ]
  },
  {
   "cell_type": "code",
   "execution_count": 5,
   "id": "c58624b0-3e20-4186-9774-53f48616077d",
   "metadata": {},
   "outputs": [
    {
     "data": {
      "text/plain": [
       "<seaborn.axisgrid.FacetGrid at 0x7f6fa63a9040>"
      ]
     },
     "execution_count": 5,
     "metadata": {},
     "output_type": "execute_result"
    },
    {
     "data": {
      "image/png": "[encoded data removed]",
      "text/plain": [
       "<Figure size 500x500 with 1 Axes>"
      ]
     },
     "metadata": {},
     "output_type": "display_data"
    }
   ],
   "source": [
    "sns.displot(wallet_df.total, log_scale=True, kde=True)"
   ]
  },
  {
   "cell_type": "code",
   "execution_count": 26,
   "id": "ac9d2bf5-3e7b-406c-a44a-1b7de23b0846",
   "metadata": {},
   "outputs": [
    {
     "name": "stdout",
     "output_type": "stream",
     "text": [
      "0.8464131219739289\n",
      "4278.871026\n",
      "4278871025999999926272\n"
     ]
    },
    {
     "data": {
      "image/png": "[encoded data removed]",
      "text/plain": [
       "<Figure size 640x480 with 1 Axes>"
      ]
     },
     "metadata": {},
     "output_type": "display_data"
    }
   ],
   "source": [
    "threshold = 0.05\n",
    "balance = sorted(wallet_df.total)[::-1]\n",
    "points = np.cumsum(balance) / wallet_df.total.sum()\n",
    "plt.plot(points)\n",
    "mask = wallet_df.total_token_share > threshold\n",
    "x = np.sum(mask)\n",
    "y = wallet_df[mask].total_token_share.sum() / 100\n",
    "plt.plot([x, x], [0, 1], color='grey', linestyle='--')\n",
    "xlim = plt.xlim()\n",
    "plt.plot(xlim, [y, y], color='grey', linestyle='--')\n",
    "plt.xlim(xlim)\n",
    "plt.ylim(0,1)\n",
    "print(y)\n",
    "print(wallet_df[mask].total.min())\n",
    "print(int(wallet_df[mask].total.min() * 10 **18))\n",
    "# sns.displot(np.cumsum(balance), log_scale=True, kind='ecdf')"
   ]
  },
  {
   "cell_type": "code",
   "execution_count": 30,
   "id": "185d0711-ea7c-4881-8dbb-9f319267103c",
   "metadata": {},
   "outputs": [
    {
     "data": {
      "text/plain": [
       "8536242865911699582484480"
      ]
     },
     "execution_count": 30,
     "metadata": {},
     "output_type": "execute_result"
    }
   ],
   "source": [
    "int(wallet_df.total.sum() * 10 ** 18)"
   ]
  },
  {
   "cell_type": "code",
   "execution_count": 16,
   "id": "16d20e79-ce2d-4774-b616-3ae317a62401",
   "metadata": {},
   "outputs": [
    {
     "data": {
      "text/plain": [
       "26.081351101802518"
      ]
     },
     "execution_count": 16,
     "metadata": {},
     "output_type": "execute_result"
    }
   ],
   "source": [
    "wallet_df[mask & (wallet_df.type == 'Private')].total_token_share.sum()"
   ]
  },
  {
   "cell_type": "code",
   "execution_count": 17,
   "id": "e687282c-8fec-4c85-90c9-0c8d7301ce3a",
   "metadata": {},
   "outputs": [
    {
     "data": {
      "text/plain": [
       "51.65981109787717"
      ]
     },
     "execution_count": 17,
     "metadata": {},
     "output_type": "execute_result"
    }
   ],
   "source": [
    "wallet_df[mask & (wallet_df.type != 'Private')].total_token_share.sum()"
   ]
  },
  {
   "cell_type": "code",
   "execution_count": 7,
   "id": "f0f284b4-a382-49b5-8d0a-eab52be13657",
   "metadata": {},
   "outputs": [
    {
     "name": "stdout",
     "output_type": "stream",
     "text": [
      "mean token share: 0.083%\n",
      "median token share: 0.013%\n",
      "mode token share: 0.012%\n"
     ]
    }
   ],
   "source": [
    "print('mean token share:', f'{wallet_df.total_token_share.mean():.3f}%')\n",
    "print('median token share:', f'{wallet_df.total_token_share.median():.3f}%')\n",
    "print('mode token share:', f'{wallet_df.total_token_share.mode().iloc[0]:.3f}%')"
   ]
  },
  {
   "cell_type": "code",
   "execution_count": 73,
   "id": "698a4062-b18f-402d-b476-29722b163149",
   "metadata": {},
   "outputs": [
    {
     "name": "stdout",
     "output_type": "stream",
     "text": [
      "Number of wallets holding more than 1.000% of all tokens: 13\n",
      "These wallets collectively hold 54.268% of all tokens\n"
     ]
    }
   ],
   "source": [
    "threshold = 1\n",
    "mask = wallet_df.total_token_share >= threshold\n",
    "wallet_count = np.sum(mask)\n",
    "print(f'Number of wallets holding more than {threshold:.3f}% of all tokens: {wallet_count}')\n",
    "total_share = np.sum(wallet_df[mask]['total_token_share'].sum())\n",
    "print(f'These wallets collectively hold {total_share:.3f}% of all tokens')"
   ]
  },
  {
   "cell_type": "code",
   "execution_count": 71,
   "id": "9cf9366b-d16a-48d5-9f83-79170340fa56",
   "metadata": {},
   "outputs": [
    {
     "name": "stdout",
     "output_type": "stream",
     "text": [
      "Number of wallets holding more than 0.500% of all tokens: 22\n",
      "These wallets collectively hold 60.499% of all tokens\n"
     ]
    }
   ],
   "source": [
    "threshold = 0.5\n",
    "mask = wallet_df.total_token_share >= threshold\n",
    "wallet_count = np.sum(mask)\n",
    "print(f'Number of wallets holding more than {threshold:.3f}% of all tokens: {wallet_count}')\n",
    "total_share = np.sum(wallet_df[mask]['total_token_share'].sum())\n",
    "print(f'These wallets collectively hold {total_share:.3f}% of all tokens')"
   ]
  },
  {
   "cell_type": "code",
   "execution_count": 72,
   "id": "857b3ed1-e4f2-442a-9d9f-c2de2c779960",
   "metadata": {},
   "outputs": [
    {
     "name": "stdout",
     "output_type": "stream",
     "text": [
      "Number of wallets holding more than 0.100% of all tokens: 102\n",
      "These wallets collectively hold 77.741% of all tokens\n"
     ]
    }
   ],
   "source": [
    "threshold = 0.1\n",
    "mask = wallet_df.total_token_share >= threshold\n",
    "wallet_count = np.sum(mask)\n",
    "print(f'Number of wallets holding more than {threshold:.3f}% of all tokens: {wallet_count}')\n",
    "total_share = np.sum(wallet_df[mask]['total_token_share'].sum())\n",
    "print(f'These wallets collectively hold {total_share:.3f}% of all tokens')"
   ]
  },
  {
   "cell_type": "code",
   "execution_count": 39,
   "id": "a684fd71-ab7f-471f-9901-9da94d3acc57",
   "metadata": {},
   "outputs": [
    {
     "data": {
      "text/html": [
       "<div>\n",
       "<style scoped>\n",
       "    .dataframe tbody tr th:only-of-type {\n",
       "        vertical-align: middle;\n",
       "    }\n",
       "\n",
       "    .dataframe tbody tr th {\n",
       "        vertical-align: top;\n",
       "    }\n",
       "\n",
       "    .dataframe thead th {\n",
       "        text-align: right;\n",
       "    }\n",
       "</style>\n",
       "<table border=\"1\" class=\"dataframe\">\n",
       "  <thead>\n",
       "    <tr style=\"text-align: right;\">\n",
       "      <th></th>\n",
       "      <th>stETH</th>\n",
       "      <th>wstETH</th>\n",
       "      <th>total</th>\n",
       "      <th>wallet_count</th>\n",
       "    </tr>\n",
       "    <tr>\n",
       "      <th>type</th>\n",
       "      <th></th>\n",
       "      <th></th>\n",
       "      <th></th>\n",
       "      <th></th>\n",
       "    </tr>\n",
       "  </thead>\n",
       "  <tbody>\n",
       "    <tr>\n",
       "      <th>CEX</th>\n",
       "      <td>1.091492e+05</td>\n",
       "      <td>3.834860e+03</td>\n",
       "      <td>1.136502e+05</td>\n",
       "      <td>8</td>\n",
       "    </tr>\n",
       "    <tr>\n",
       "      <th>Contract</th>\n",
       "      <td>2.023537e+06</td>\n",
       "      <td>2.175870e+06</td>\n",
       "      <td>4.577356e+06</td>\n",
       "      <td>152</td>\n",
       "    </tr>\n",
       "    <tr>\n",
       "      <th>Custody</th>\n",
       "      <td>2.853018e+04</td>\n",
       "      <td>4.238680e+04</td>\n",
       "      <td>7.827957e+04</td>\n",
       "      <td>11</td>\n",
       "    </tr>\n",
       "    <tr>\n",
       "      <th>Private</th>\n",
       "      <td>2.526655e+06</td>\n",
       "      <td>1.056745e+06</td>\n",
       "      <td>3.766957e+06</td>\n",
       "      <td>1037</td>\n",
       "    </tr>\n",
       "  </tbody>\n",
       "</table>\n",
       "</div>"
      ],
      "text/plain": [
       "                 stETH        wstETH         total  wallet_count\n",
       "type                                                            \n",
       "CEX       1.091492e+05  3.834860e+03  1.136502e+05             8\n",
       "Contract  2.023537e+06  2.175870e+06  4.577356e+06           152\n",
       "Custody   2.853018e+04  4.238680e+04  7.827957e+04            11\n",
       "Private   2.526655e+06  1.056745e+06  3.766957e+06          1037"
      ]
     },
     "execution_count": 39,
     "metadata": {},
     "output_type": "execute_result"
    }
   ],
   "source": [
    "wallet_type_summary = wallet_df.groupby('type').sum(numeric_only=True)\n",
    "wallet_type_summary['wallet_count'] = wallet_df.groupby('type').count()['address']\n",
    "wallet_type_summary"
   ]
  },
  {
   "cell_type": "code",
   "execution_count": 54,
   "id": "979252a3-bb74-4ea4-ad1c-ea96c5ffb1c2",
   "metadata": {},
   "outputs": [
    {
     "name": "stdout",
     "output_type": "stream",
     "text": [
      "type\n",
      "CEX            8\n",
      "Contract     152\n",
      "Custody       11\n",
      "Private     1037\n",
      "Name: wallet_count, dtype: int64\n",
      "type\n",
      "CEX         1.136502e+05\n",
      "Contract    4.577356e+06\n",
      "Custody     7.827957e+04\n",
      "Private     3.766957e+06\n",
      "Name: total, dtype: float64\n"
     ]
    },
    {
     "data": {
      "image/png": "[encoded data removed]",
      "text/plain": [
       "<Figure size 1500x600 with 2 Axes>"
      ]
     },
     "metadata": {},
     "output_type": "display_data"
    }
   ],
   "source": [
    "fig = create_donut_charts([wallet_type_summary, wallet_type_summary], ['wallet_count', 'total'], ['Wallets by type', 'Token amount by wallet type']);\n",
    "fig.savefig(outpath.joinpath('wallet_type_piechart.png'))"
   ]
  },
  {
   "cell_type": "code",
   "execution_count": 81,
   "id": "e1e62362-bfc8-4a17-9a04-df54a1b1d352",
   "metadata": {},
   "outputs": [
    {
     "data": {
      "image/png": "[encoded data removed]",
      "text/plain": [
       "<Figure size 640x480 with 1 Axes>"
      ]
     },
     "metadata": {},
     "output_type": "display_data"
    }
   ],
   "source": [
    "active_percent = wallet_type_summary['total']['Private'] / wallet_type_summary['total'].sum()\n",
    "\n",
    "default_percents = np.array([3, 15])\n",
    "plt.bar([0,1], default_percents, label='System thresholds')\n",
    "plt.bar([2,3], default_percents / active_percent, label='Effective thresholds')\n",
    "plt.xticks([0,1,2,3], labels=['VetoSignalling', 'RageQuit', 'VetoSignalling', 'RageQuit'])\n",
    "plt.gca().yaxis.set_minor_locator(ticker.MultipleLocator(1))\n",
    "plt.gca().yaxis.set_major_formatter(ticker.PercentFormatter(xmax=100))\n",
    "plt.gca().tick_params(axis=u'x', which=u'both',length=0)\n",
    "plt.grid(True, axis='y')\n",
    "plt.gca().grid(True, axis='y', which='minor', linestyle='--')\n",
    "plt.legend()\n",
    "plt.savefig(outpath.joinpath('effective_threshold_barchart.png'))"
   ]
  },
  {
   "cell_type": "code",
   "execution_count": 112,
   "id": "84f4ceed-7a46-4d87-ab11-05295bea6ca2",
   "metadata": {},
   "outputs": [
    {
     "data": {
      "text/html": [
       "<div>\n",
       "<style scoped>\n",
       "    .dataframe tbody tr th:only-of-type {\n",
       "        vertical-align: middle;\n",
       "    }\n",
       "\n",
       "    .dataframe tbody tr th {\n",
       "        vertical-align: top;\n",
       "    }\n",
       "\n",
       "    .dataframe thead th {\n",
       "        text-align: right;\n",
       "    }\n",
       "</style>\n",
       "<table border=\"1\" class=\"dataframe\">\n",
       "  <thead>\n",
       "    <tr style=\"text-align: right;\">\n",
       "      <th></th>\n",
       "      <th>address</th>\n",
       "      <th>stETH</th>\n",
       "      <th>wstETH</th>\n",
       "      <th>total</th>\n",
       "      <th>label</th>\n",
       "      <th>type</th>\n",
       "      <th>protocol_type</th>\n",
       "      <th>share</th>\n",
       "    </tr>\n",
       "  </thead>\n",
       "  <tbody>\n",
       "    <tr>\n",
       "      <th>3</th>\n",
       "      <td>0x98078db053902644191f93988341e31289e1c8fe</td>\n",
       "      <td>453283.812900</td>\n",
       "      <td>0.00000</td>\n",
       "      <td>453283.812900</td>\n",
       "      <td>Private Transactions Miner [0x6b764a]</td>\n",
       "      <td>Private</td>\n",
       "      <td>NaN</td>\n",
       "      <td>0.053101</td>\n",
       "    </tr>\n",
       "    <tr>\n",
       "      <th>5</th>\n",
       "      <td>0xc329400492c6ff2438472d4651ad17389fcb843a</td>\n",
       "      <td>0.000000</td>\n",
       "      <td>210603.20510</td>\n",
       "      <td>247184.981800</td>\n",
       "      <td>clonmel.eth [0x9d91ae]</td>\n",
       "      <td>Private</td>\n",
       "      <td>NaN</td>\n",
       "      <td>0.028957</td>\n",
       "    </tr>\n",
       "    <tr>\n",
       "      <th>8</th>\n",
       "      <td>0x48d62ed012e327faacb9c8d2a56330e215da0575</td>\n",
       "      <td>0.000000</td>\n",
       "      <td>105695.13730</td>\n",
       "      <td>124054.382600</td>\n",
       "      <td>EIP 1559 User [0x5a1f9d]</td>\n",
       "      <td>Private</td>\n",
       "      <td>NaN</td>\n",
       "      <td>0.014533</td>\n",
       "    </tr>\n",
       "    <tr>\n",
       "      <th>9</th>\n",
       "      <td>0x3c22ec75ea5d745c78fc84762f7f1e6d82a2c5bf</td>\n",
       "      <td>9543.968864</td>\n",
       "      <td>80790.22584</td>\n",
       "      <td>104367.456900</td>\n",
       "      <td>pewpews.eth [0xa626bd]</td>\n",
       "      <td>Private</td>\n",
       "      <td>NaN</td>\n",
       "      <td>0.012226</td>\n",
       "    </tr>\n",
       "    <tr>\n",
       "      <th>10</th>\n",
       "      <td>0x43594da5d6a03b2137a04df5685805c676def7cb</td>\n",
       "      <td>96252.516950</td>\n",
       "      <td>0.00000</td>\n",
       "      <td>96252.516950</td>\n",
       "      <td>High Balance [0x8d249e]</td>\n",
       "      <td>Private</td>\n",
       "      <td>NaN</td>\n",
       "      <td>0.011276</td>\n",
       "    </tr>\n",
       "    <tr>\n",
       "      <th>...</th>\n",
       "      <td>...</td>\n",
       "      <td>...</td>\n",
       "      <td>...</td>\n",
       "      <td>...</td>\n",
       "      <td>...</td>\n",
       "      <td>...</td>\n",
       "      <td>...</td>\n",
       "      <td>...</td>\n",
       "    </tr>\n",
       "    <tr>\n",
       "      <th>1203</th>\n",
       "      <td>0x3fa930a14c9a35b6d4b3babaae395384eadd0d1f</td>\n",
       "      <td>510.591493</td>\n",
       "      <td>0.00000</td>\n",
       "      <td>510.591493</td>\n",
       "      <td>NaN</td>\n",
       "      <td>Private</td>\n",
       "      <td>NaN</td>\n",
       "      <td>0.000060</td>\n",
       "    </tr>\n",
       "    <tr>\n",
       "      <th>1204</th>\n",
       "      <td>0xc4652535aad91abbb4cc90f3f474e9f765003e05</td>\n",
       "      <td>509.909753</td>\n",
       "      <td>0.00000</td>\n",
       "      <td>509.909753</td>\n",
       "      <td>NaN</td>\n",
       "      <td>Private</td>\n",
       "      <td>NaN</td>\n",
       "      <td>0.000060</td>\n",
       "    </tr>\n",
       "    <tr>\n",
       "      <th>1205</th>\n",
       "      <td>0xa2694887f13a7bfee00824ba02b38ae848779136</td>\n",
       "      <td>509.548730</td>\n",
       "      <td>0.00000</td>\n",
       "      <td>509.548730</td>\n",
       "      <td>NaN</td>\n",
       "      <td>Private</td>\n",
       "      <td>NaN</td>\n",
       "      <td>0.000060</td>\n",
       "    </tr>\n",
       "    <tr>\n",
       "      <th>1206</th>\n",
       "      <td>0x3f1131d2107c6fd8d1f7f3808dfccefe5afcf6fe</td>\n",
       "      <td>509.286951</td>\n",
       "      <td>0.00000</td>\n",
       "      <td>509.286951</td>\n",
       "      <td>NaN</td>\n",
       "      <td>Private</td>\n",
       "      <td>NaN</td>\n",
       "      <td>0.000060</td>\n",
       "    </tr>\n",
       "    <tr>\n",
       "      <th>1207</th>\n",
       "      <td>0x76425df022f372ff5475ec287c113ccd554cf479</td>\n",
       "      <td>507.666718</td>\n",
       "      <td>0.00000</td>\n",
       "      <td>507.666718</td>\n",
       "      <td>NaN</td>\n",
       "      <td>Private</td>\n",
       "      <td>NaN</td>\n",
       "      <td>0.000059</td>\n",
       "    </tr>\n",
       "  </tbody>\n",
       "</table>\n",
       "<p>1037 rows × 8 columns</p>\n",
       "</div>"
      ],
      "text/plain": [
       "                                         address          stETH        wstETH  \\\n",
       "3     0x98078db053902644191f93988341e31289e1c8fe  453283.812900       0.00000   \n",
       "5     0xc329400492c6ff2438472d4651ad17389fcb843a       0.000000  210603.20510   \n",
       "8     0x48d62ed012e327faacb9c8d2a56330e215da0575       0.000000  105695.13730   \n",
       "9     0x3c22ec75ea5d745c78fc84762f7f1e6d82a2c5bf    9543.968864   80790.22584   \n",
       "10    0x43594da5d6a03b2137a04df5685805c676def7cb   96252.516950       0.00000   \n",
       "...                                          ...            ...           ...   \n",
       "1203  0x3fa930a14c9a35b6d4b3babaae395384eadd0d1f     510.591493       0.00000   \n",
       "1204  0xc4652535aad91abbb4cc90f3f474e9f765003e05     509.909753       0.00000   \n",
       "1205  0xa2694887f13a7bfee00824ba02b38ae848779136     509.548730       0.00000   \n",
       "1206  0x3f1131d2107c6fd8d1f7f3808dfccefe5afcf6fe     509.286951       0.00000   \n",
       "1207  0x76425df022f372ff5475ec287c113ccd554cf479     507.666718       0.00000   \n",
       "\n",
       "              total                                  label     type  \\\n",
       "3     453283.812900  Private Transactions Miner [0x6b764a]  Private   \n",
       "5     247184.981800                 clonmel.eth [0x9d91ae]  Private   \n",
       "8     124054.382600               EIP 1559 User [0x5a1f9d]  Private   \n",
       "9     104367.456900                 pewpews.eth [0xa626bd]  Private   \n",
       "10     96252.516950                High Balance [0x8d249e]  Private   \n",
       "...             ...                                    ...      ...   \n",
       "1203     510.591493                                    NaN  Private   \n",
       "1204     509.909753                                    NaN  Private   \n",
       "1205     509.548730                                    NaN  Private   \n",
       "1206     509.286951                                    NaN  Private   \n",
       "1207     507.666718                                    NaN  Private   \n",
       "\n",
       "     protocol_type     share  \n",
       "3              NaN  0.053101  \n",
       "5              NaN  0.028957  \n",
       "8              NaN  0.014533  \n",
       "9              NaN  0.012226  \n",
       "10             NaN  0.011276  \n",
       "...            ...       ...  \n",
       "1203           NaN  0.000060  \n",
       "1204           NaN  0.000060  \n",
       "1205           NaN  0.000060  \n",
       "1206           NaN  0.000060  \n",
       "1207           NaN  0.000059  \n",
       "\n",
       "[1037 rows x 8 columns]"
      ]
     },
     "execution_count": 112,
     "metadata": {},
     "output_type": "execute_result"
    }
   ],
   "source": [
    "wallet_df['share'] = wallet_df.total / wallet_df.total.sum()\n",
    "share_df = wallet_df[wallet_df.type == 'Private'].sort_values(by='total', ascending=False).copy()\n",
    "share_df"
   ]
  },
  {
   "cell_type": "code",
   "execution_count": 130,
   "id": "aa6e9273-2349-4eef-b372-5d06262dfa44",
   "metadata": {},
   "outputs": [
    {
     "name": "stdout",
     "output_type": "stream",
     "text": [
      "Only the largest wallet can overcome the VS threshold\n",
      "1036 other wallets can join the largest wallet\n",
      "52 smaller wallets can overcome the VS threshold with the second largest wallet\n",
      "0 smaller wallets can overcome the VS threshold with the third largest wallet\n",
      "So 1088 total pairs, but they contain either the first or the second largest wallets\n"
     ]
    }
   ],
   "source": [
    "print('Only the largest wallet can overcome the VS threshold')\n",
    "count0 = len(share_df) - 1\n",
    "print(f'{count0} other wallets can join the largest wallet')\n",
    "count1 = np.sum((share_df.drop([3,5]).share + share_df.loc[5].share) >= 0.03)\n",
    "print(f'{count1} smaller wallets can overcome the VS threshold with the second largest wallet')\n",
    "count2 = np.sum((share_df.drop([3,5,8]).share + share_df.loc[8].share) >= 0.03)\n",
    "print(f'{count2} smaller wallets can overcome the VS threshold with the third largest wallet')\n",
    "print(f'So {count0 + count1 + count2} total pairs, but they contain either the first or the second largest wallets')"
   ]
  },
  {
   "cell_type": "markdown",
   "id": "25b567a7-3e4f-4923-9f9a-cff174452a85",
   "metadata": {},
   "source": [
    "### Todo count triplets in the same manner. Meaning count triplets with the second largest wallet and wallets not in the count1, the third largest wallet"
   ]
  },
  {
   "cell_type": "code",
   "execution_count": 156,
   "id": "66ff145a-b237-485c-8458-d6dd0141b8a1",
   "metadata": {},
   "outputs": [
    {
     "name": "stdout",
     "output_type": "stream",
     "text": [
      "982 981 980 634 361 350 321 290 245 232\n"
     ]
    }
   ],
   "source": [
    "share_df_d = share_df.drop([3,5])\n",
    "mask = (share_df_d.share + share_df.loc[5].share) < 0.03\n",
    "\n",
    "count3 = np.sum((share_df.loc[5].share + share_df_d[mask].loc[99].share + share_df_d[mask].drop([99]).share) >= 0.03)\n",
    "count4 = np.sum((share_df.loc[5].share + share_df_d[mask].loc[100].share + share_df_d[mask].drop([99,100]).share) >= 0.03)\n",
    "count5 = np.sum((share_df.loc[5].share + share_df_d[mask].loc[101].share + share_df_d[mask].drop([99,100, 101]).share) >= 0.03)\n",
    "count6 = np.sum((share_df.loc[5].share + share_df_d[mask].loc[105].share + share_df_d[mask].drop([99,100, 101,105]).share) >= 0.03)\n",
    "count7 = np.sum((share_df.loc[5].share + share_df_d[mask].loc[106].share + share_df_d[mask].drop([99,100, 101,105,106]).share) >= 0.03)\n",
    "count8 = np.sum((share_df.loc[5].share + share_df_d[mask].loc[107].share + share_df_d[mask].drop([99,100, 101,105,106,107]).share) >= 0.03)\n",
    "count9 = np.sum((share_df.loc[5].share + share_df_d[mask].loc[109].share + share_df_d[mask].drop([99,100, 101,105,106,107,109]).share) >= 0.03)\n",
    "count10 = np.sum((share_df.loc[5].share + share_df_d[mask].loc[111].share + share_df_d[mask].drop([99,100, 101,105,106,107,109,111]).share) >= 0.03)\n",
    "count11 = np.sum((share_df.loc[5].share + share_df_d[mask].loc[113].share + share_df_d[mask].drop([99,100, 101,105,106,107,109,111,113]).share) >= 0.03)\n",
    "count12 = np.sum((share_df.loc[5].share + share_df_d[mask].loc[115].share + share_df_d[mask].drop([99,100, 101,105,106,107,109,111,113,115]).share) >= 0.03)\n",
    "print(count3, count4, count5, count6, count7, count8, count9, count10, count11, count12)"
   ]
  },
  {
   "cell_type": "code",
   "execution_count": 149,
   "id": "8101810f-b3c8-4375-b6d0-231d30523410",
   "metadata": {},
   "outputs": [
    {
     "data": {
      "text/html": [
       "<div>\n",
       "<style scoped>\n",
       "    .dataframe tbody tr th:only-of-type {\n",
       "        vertical-align: middle;\n",
       "    }\n",
       "\n",
       "    .dataframe tbody tr th {\n",
       "        vertical-align: top;\n",
       "    }\n",
       "\n",
       "    .dataframe thead th {\n",
       "        text-align: right;\n",
       "    }\n",
       "</style>\n",
       "<table border=\"1\" class=\"dataframe\">\n",
       "  <thead>\n",
       "    <tr style=\"text-align: right;\">\n",
       "      <th></th>\n",
       "      <th>address</th>\n",
       "      <th>stETH</th>\n",
       "      <th>wstETH</th>\n",
       "      <th>total</th>\n",
       "      <th>label</th>\n",
       "      <th>type</th>\n",
       "      <th>protocol_type</th>\n",
       "      <th>share</th>\n",
       "    </tr>\n",
       "  </thead>\n",
       "  <tbody>\n",
       "    <tr>\n",
       "      <th>99</th>\n",
       "      <td>0x1a5213554ac2f7056c554fb19416ff9738e165ba</td>\n",
       "      <td>8846.902577</td>\n",
       "      <td>0.000000</td>\n",
       "      <td>8846.902577</td>\n",
       "      <td>haos.eth [0x1a5213]</td>\n",
       "      <td>Private</td>\n",
       "      <td>NaN</td>\n",
       "      <td>0.001036</td>\n",
       "    </tr>\n",
       "    <tr>\n",
       "      <th>100</th>\n",
       "      <td>0x98ec0508e134dfee2992e42577696625768be437</td>\n",
       "      <td>8757.369407</td>\n",
       "      <td>0.000000</td>\n",
       "      <td>8757.369407</td>\n",
       "      <td>Token Millionaire [0x98ec05]</td>\n",
       "      <td>Private</td>\n",
       "      <td>NaN</td>\n",
       "      <td>0.001026</td>\n",
       "    </tr>\n",
       "    <tr>\n",
       "      <th>101</th>\n",
       "      <td>0xa5d223c176daab154a3134369d1c0478c5e6fecf</td>\n",
       "      <td>0.000000</td>\n",
       "      <td>7305.219814</td>\n",
       "      <td>8574.136496</td>\n",
       "      <td>10248.eth* [0xa5d223]</td>\n",
       "      <td>Private</td>\n",
       "      <td>NaN</td>\n",
       "      <td>0.001004</td>\n",
       "    </tr>\n",
       "    <tr>\n",
       "      <th>105</th>\n",
       "      <td>0xb3668730e4a8abe282a6d471c75baf75557ffff3</td>\n",
       "      <td>0.000000</td>\n",
       "      <td>6885.493147</td>\n",
       "      <td>8081.503306</td>\n",
       "      <td>Token Millionaire [0x4992c5]</td>\n",
       "      <td>Private</td>\n",
       "      <td>NaN</td>\n",
       "      <td>0.000947</td>\n",
       "    </tr>\n",
       "    <tr>\n",
       "      <th>106</th>\n",
       "      <td>0x46cd2870894a9a7d5eedbb40997d994fa8a058df</td>\n",
       "      <td>7658.563187</td>\n",
       "      <td>0.000000</td>\n",
       "      <td>7658.563187</td>\n",
       "      <td>Token Millionaire [0x46cd28]</td>\n",
       "      <td>Private</td>\n",
       "      <td>NaN</td>\n",
       "      <td>0.000897</td>\n",
       "    </tr>\n",
       "    <tr>\n",
       "      <th>107</th>\n",
       "      <td>0xfc09d8c9a63670702c2de876ff95608ab971dcd6</td>\n",
       "      <td>7621.633895</td>\n",
       "      <td>0.000000</td>\n",
       "      <td>7621.633895</td>\n",
       "      <td>Token Millionaire [0xfc09d8]</td>\n",
       "      <td>Private</td>\n",
       "      <td>NaN</td>\n",
       "      <td>0.000893</td>\n",
       "    </tr>\n",
       "    <tr>\n",
       "      <th>109</th>\n",
       "      <td>0x4a240f0ee138697726c8a3e43efe6ac3593432cb</td>\n",
       "      <td>0.000000</td>\n",
       "      <td>6412.794919</td>\n",
       "      <td>7526.697396</td>\n",
       "      <td>Gnosis Safe MultiSig</td>\n",
       "      <td>Private</td>\n",
       "      <td>NaN</td>\n",
       "      <td>0.000882</td>\n",
       "    </tr>\n",
       "    <tr>\n",
       "      <th>111</th>\n",
       "      <td>0x0685c5aed38f038d984e8dc7dc8ad8783f166f35</td>\n",
       "      <td>0.000000</td>\n",
       "      <td>6300.000000</td>\n",
       "      <td>7394.310000</td>\n",
       "      <td>Token Millionaire</td>\n",
       "      <td>Private</td>\n",
       "      <td>NaN</td>\n",
       "      <td>0.000866</td>\n",
       "    </tr>\n",
       "    <tr>\n",
       "      <th>113</th>\n",
       "      <td>0xa3726bedfd1a8aa696b9b4581277240028c4314b</td>\n",
       "      <td>0.000000</td>\n",
       "      <td>6121.661852</td>\n",
       "      <td>7184.994516</td>\n",
       "      <td>Token Millionaire</td>\n",
       "      <td>Private</td>\n",
       "      <td>NaN</td>\n",
       "      <td>0.000842</td>\n",
       "    </tr>\n",
       "    <tr>\n",
       "      <th>115</th>\n",
       "      <td>0x720d8790666bd40b9ca289cbe73cb1334f0ae7e3</td>\n",
       "      <td>7101.672500</td>\n",
       "      <td>0.000000</td>\n",
       "      <td>7101.672500</td>\n",
       "      <td>Gnosis Safe MultiSig</td>\n",
       "      <td>Private</td>\n",
       "      <td>NaN</td>\n",
       "      <td>0.000832</td>\n",
       "    </tr>\n",
       "  </tbody>\n",
       "</table>\n",
       "</div>"
      ],
      "text/plain": [
       "                                        address        stETH       wstETH  \\\n",
       "99   0x1a5213554ac2f7056c554fb19416ff9738e165ba  8846.902577     0.000000   \n",
       "100  0x98ec0508e134dfee2992e42577696625768be437  8757.369407     0.000000   \n",
       "101  0xa5d223c176daab154a3134369d1c0478c5e6fecf     0.000000  7305.219814   \n",
       "105  0xb3668730e4a8abe282a6d471c75baf75557ffff3     0.000000  6885.493147   \n",
       "106  0x46cd2870894a9a7d5eedbb40997d994fa8a058df  7658.563187     0.000000   \n",
       "107  0xfc09d8c9a63670702c2de876ff95608ab971dcd6  7621.633895     0.000000   \n",
       "109  0x4a240f0ee138697726c8a3e43efe6ac3593432cb     0.000000  6412.794919   \n",
       "111  0x0685c5aed38f038d984e8dc7dc8ad8783f166f35     0.000000  6300.000000   \n",
       "113  0xa3726bedfd1a8aa696b9b4581277240028c4314b     0.000000  6121.661852   \n",
       "115  0x720d8790666bd40b9ca289cbe73cb1334f0ae7e3  7101.672500     0.000000   \n",
       "\n",
       "           total                         label     type protocol_type  \\\n",
       "99   8846.902577           haos.eth [0x1a5213]  Private           NaN   \n",
       "100  8757.369407  Token Millionaire [0x98ec05]  Private           NaN   \n",
       "101  8574.136496         10248.eth* [0xa5d223]  Private           NaN   \n",
       "105  8081.503306  Token Millionaire [0x4992c5]  Private           NaN   \n",
       "106  7658.563187  Token Millionaire [0x46cd28]  Private           NaN   \n",
       "107  7621.633895  Token Millionaire [0xfc09d8]  Private           NaN   \n",
       "109  7526.697396         Gnosis Safe MultiSig   Private           NaN   \n",
       "111  7394.310000             Token Millionaire  Private           NaN   \n",
       "113  7184.994516             Token Millionaire  Private           NaN   \n",
       "115  7101.672500         Gnosis Safe MultiSig   Private           NaN   \n",
       "\n",
       "        share  \n",
       "99   0.001036  \n",
       "100  0.001026  \n",
       "101  0.001004  \n",
       "105  0.000947  \n",
       "106  0.000897  \n",
       "107  0.000893  \n",
       "109  0.000882  \n",
       "111  0.000866  \n",
       "113  0.000842  \n",
       "115  0.000832  "
      ]
     },
     "execution_count": 149,
     "metadata": {},
     "output_type": "execute_result"
    }
   ],
   "source": [
    "share_df_d[mask].head(10)"
   ]
  },
  {
   "cell_type": "markdown",
   "id": "d0f764f6-a6c8-45b6-998e-de88a0fc64d6",
   "metadata": {},
   "source": [
    "So there are much more triplets that can put the system into VetoSignalling. TODO exaustive counting"
   ]
  },
  {
   "cell_type": "code",
   "execution_count": null,
   "id": "6b137189-4eb6-4d67-96cf-c4d52313bbd6",
   "metadata": {},
   "outputs": [],
   "source": []
  }
 ],
 "metadata": {
  "kernelspec": {
   "display_name": "Python 3 (ipykernel)",
   "language": "python",
   "name": "python3"
  },
  "language_info": {
   "codemirror_mode": {
    "name": "ipython",
    "version": 3
   },
   "file_extension": ".py",
   "mimetype": "text/x-python",
   "name": "python",
   "nbconvert_exporter": "python",
   "pygments_lexer": "ipython3",
   "version": "3.12.5"
  }
 },
 "nbformat": 4,
 "nbformat_minor": 5
}
