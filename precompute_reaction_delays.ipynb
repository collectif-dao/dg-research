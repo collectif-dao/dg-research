{
 "cells": [
  {
   "cell_type": "code",
   "execution_count": 11,
   "metadata": {},
   "outputs": [],
   "source": [
    "import numpy as np\n",
    "import scipy.stats\n",
    "\n",
    "from model.utils.reactions import determine_shift_mu_sigma, ConstantRandomVariable\n",
    "from model.sys_params import CustomDelays\n",
    "from model.types.reaction_time import ReactionTime\n",
    "\n",
    "\n",
    "def precompute_reaction_delays(custom_delays: CustomDelays):\n",
    "    reaction_delay_params = {\n",
    "            ReactionTime.NoReaction.value: ConstantRandomVariable(2**32 - 1),  # 4\n",
    "            ReactionTime.Slow.value: calculate_reaction_delay_params(\n",
    "                custom_delays.normal_max_delay, custom_delays.slow_max_delay\n",
    "            ),  # 3\n",
    "            ReactionTime.Normal.value: ConstantRandomVariable(10),\n",
    "            ReactionTime.Quick.value: ConstantRandomVariable(10),\n",
    "        }\n",
    "    return reaction_delay_params[ReactionTime.Slow.value]\n",
    "    \n",
    "\n",
    "def calculate_reaction_delay_params(min_time, max_time, p=0.99, median_parameter=0.5):\n",
    "    median_parameter_adjusted = median_parameter + (1 - median_parameter) * min_time / max_time\n",
    "    shift, median, sigma = determine_shift_mu_sigma(\n",
    "        left_bound=0, right_bound=max_time, p=p, median_parameter=median_parameter_adjusted\n",
    "    )\n",
    "    return sigma, shift, median\n"
   ]
  },
  {
   "cell_type": "code",
   "execution_count": 12,
   "metadata": {},
   "outputs": [
    {
     "name": "stdout",
     "output_type": "stream",
     "text": [
      "(np.float64(0.1742925521297363), 0, 864000.0)\n",
      "(np.float64(0.2316921328693872), 0, 1512000.0)\n",
      "(np.float64(0.25266499110519525), 0, 2160000.0)\n",
      "(np.float64(0.263548061632525), 0, 2808000.0)\n"
     ]
    }
   ],
   "source": [
    "custom_delays = [\n",
    "    CustomDelays(slow_max_delay=3600 * 24 * 15),\n",
    "    CustomDelays(slow_max_delay=3600 * 24 * 30),\n",
    "    CustomDelays(slow_max_delay=3600 * 24 * 45),\n",
    "    CustomDelays(slow_max_delay=3600 * 24 * 60),\n",
    "]\n",
    "\n",
    "for custom_delay in custom_delays:\n",
    "    print(precompute_reaction_delays(custom_delay))"
   ]
  },
  {
   "cell_type": "code",
   "execution_count": null,
   "metadata": {},
   "outputs": [],
   "source": []
  }
 ],
 "metadata": {
  "kernelspec": {
   "display_name": "radCAD",
   "language": "python",
   "name": "python3"
  },
  "language_info": {
   "codemirror_mode": {
    "name": "ipython",
    "version": 3
   },
   "file_extension": ".py",
   "mimetype": "text/x-python",
   "name": "python",
   "nbconvert_exporter": "python",
   "pygments_lexer": "ipython3",
   "version": "3.12.5"
  }
 },
 "nbformat": 4,
 "nbformat_minor": 2
}
