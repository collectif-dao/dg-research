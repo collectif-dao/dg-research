{
 "cells": [
  {
   "cell_type": "code",
   "execution_count": 1,
   "metadata": {},
   "outputs": [
    {
     "name": "stdout",
     "output_type": "stream",
     "text": [
      "['/home/rotsker/PycharmProjects/dg-research-revision', '/home/rotsker/miniconda3/envs/radCAD/lib/python312.zip', '/home/rotsker/miniconda3/envs/radCAD/lib/python3.12', '/home/rotsker/miniconda3/envs/radCAD/lib/python3.12/lib-dynload', '', '/home/rotsker/miniconda3/envs/radCAD/lib/python3.12/site-packages']\n"
     ]
    }
   ],
   "source": [
    "%load_ext autoreload\n",
    "%autoreload 2\n",
    "import sys\n",
    "from pathlib import Path\n",
    "project_root = Path.cwd().parent.parent  # Assuming notebook is in experiments/notebooks/\n",
    "sys.path.insert(0, str(project_root))\n",
    "print(sys.path)\n",
    "import pandas as pd\n",
    "import matplotlib.pyplot as plt\n",
    "import numpy as np\n",
    "import seaborn as sns\n",
    "from experiments.analysis_utils.data_processing import read_directory\n",
    "from experiments.analysis_utils.visualization import plot_reaction_speed_distribution, plot_token_distribution"
   ]
  },
  {
   "cell_type": "markdown",
   "metadata": {},
   "source": [
    "# Reaction data"
   ]
  },
  {
   "cell_type": "code",
   "execution_count": 26,
   "metadata": {},
   "outputs": [
    {
     "name": "stdout",
     "output_type": "stream",
     "text": [
      "/home/rotsker/PycharmProjects/dg-research-revision/results/simulations/withdrawal_queue_replacement_modeled_reactions_study\n",
      "True\n"
     ]
    }
   ],
   "source": [
    "def read_reaction_data(path_to_runs: Path):\n",
    "    from experiments.analysis_utils.data_processing import postprocess_proposal_data, postprocess_start_data, postprocess_timestep_data, set_run_id\n",
    "    proposal_df_list, start_data_df_list, timestep_data_df_list = [], [], []\n",
    "    for p_to_tables in path_to_runs.iterdir():\n",
    "        proposals_p = p_to_tables.joinpath(\"proposals_data.parquet\")\n",
    "        start_data_p = p_to_tables.joinpath(\"common_data.parquet\")\n",
    "        timestep_data_p = p_to_tables.joinpath(\"timestep_data.parquet\")\n",
    "        if not proposals_p.exists() or not start_data_p.exists() or not timestep_data_p.exists():\n",
    "            print(p_to_tables)\n",
    "            continue\n",
    "        proposals_df = pd.read_parquet(proposals_p)\n",
    "        start_data_df = pd.read_parquet(start_data_p)\n",
    "        timestep_data_df = pd.read_parquet(timestep_data_p)\n",
    "\n",
    "        modeled_reactions = p_to_tables.name\n",
    "        start_data_df['modeled_reactions'] = modeled_reactions\n",
    "\n",
    "        proposal_df_list.append(proposals_df)\n",
    "        start_data_df_list.append(start_data_df)\n",
    "        timestep_data_df_list.append(timestep_data_df)\n",
    "        \n",
    "    proposal_df_full = pd.concat(proposal_df_list)\n",
    "    start_data_df_full = pd.concat(start_data_df_list)\n",
    "    timestep_data_df_full = pd.concat(timestep_data_df_list)\n",
    "\n",
    "    postprocess_proposal_data(proposal_df_full)\n",
    "    postprocess_start_data(start_data_df_full)\n",
    "    postprocess_timestep_data(timestep_data_df_full)\n",
    "    \n",
    "    set_run_id(proposal_df_full, start_data_df_full, timestep_data_df_full)\n",
    "    return proposal_df_full, start_data_df_full, timestep_data_df_full\n",
    "\n",
    "# Read the data\n",
    "path_to_runs = Path(\"../../results/simulations/withdrawal_queue_replacement_modeled_reactions_study/\")\n",
    "# path_to_runs = Path(\"../../results/simulations/model_validation/\")\n",
    "print(path_to_runs.resolve())\n",
    "print(path_to_runs.resolve().exists())\n",
    "proposal_df_full, start_data_df_full, timestep_data_df_full = read_reaction_data(path_to_runs)"
   ]
  },
  {
   "cell_type": "code",
   "execution_count": 27,
   "metadata": {},
   "outputs": [
    {
     "name": "stdout",
     "output_type": "stream",
     "text": [
      "Veto statistics by seal parameters:\n"
     ]
    },
    {
     "data": {
      "text/html": [
       "<div>\n",
       "<style scoped>\n",
       "    .dataframe tbody tr th:only-of-type {\n",
       "        vertical-align: middle;\n",
       "    }\n",
       "\n",
       "    .dataframe tbody tr th {\n",
       "        vertical-align: top;\n",
       "    }\n",
       "\n",
       "    .dataframe thead th {\n",
       "        text-align: right;\n",
       "    }\n",
       "</style>\n",
       "<table border=\"1\" class=\"dataframe\">\n",
       "  <thead>\n",
       "    <tr style=\"text-align: right;\">\n",
       "      <th></th>\n",
       "      <th></th>\n",
       "      <th></th>\n",
       "      <th>veto_rate</th>\n",
       "      <th>mean_time_to_veto</th>\n",
       "      <th>median_time_to_veto</th>\n",
       "      <th>hours_mean_time_to_veto_hours</th>\n",
       "      <th>hours_median_time_to_veto_hours</th>\n",
       "      <th>total_runs</th>\n",
       "    </tr>\n",
       "    <tr>\n",
       "      <th>first_seal_rage_quit_support</th>\n",
       "      <th>second_seal_rage_quit_support</th>\n",
       "      <th>modeled_reactions</th>\n",
       "      <th></th>\n",
       "      <th></th>\n",
       "      <th></th>\n",
       "      <th></th>\n",
       "      <th></th>\n",
       "      <th></th>\n",
       "    </tr>\n",
       "  </thead>\n",
       "  <tbody>\n",
       "    <tr>\n",
       "      <th rowspan=\"3\" valign=\"top\">0.01</th>\n",
       "      <th rowspan=\"3\" valign=\"top\">0.1</th>\n",
       "      <th>Accelerated</th>\n",
       "      <td>100.0</td>\n",
       "      <td>22.410000</td>\n",
       "      <td>23.0</td>\n",
       "      <td>67.230000</td>\n",
       "      <td>69.0</td>\n",
       "      <td>100</td>\n",
       "    </tr>\n",
       "    <tr>\n",
       "      <th>Normal</th>\n",
       "      <td>100.0</td>\n",
       "      <td>26.030000</td>\n",
       "      <td>26.0</td>\n",
       "      <td>78.090000</td>\n",
       "      <td>78.0</td>\n",
       "      <td>100</td>\n",
       "    </tr>\n",
       "    <tr>\n",
       "      <th>Slowed</th>\n",
       "      <td>97.0</td>\n",
       "      <td>31.185567</td>\n",
       "      <td>31.0</td>\n",
       "      <td>93.556701</td>\n",
       "      <td>93.0</td>\n",
       "      <td>100</td>\n",
       "    </tr>\n",
       "  </tbody>\n",
       "</table>\n",
       "</div>"
      ],
      "text/plain": [
       "                                                                              veto_rate  \\\n",
       "first_seal_rage_quit_support second_seal_rage_quit_support modeled_reactions              \n",
       "0.01                         0.1                           Accelerated            100.0   \n",
       "                                                           Normal                 100.0   \n",
       "                                                           Slowed                  97.0   \n",
       "\n",
       "                                                                              mean_time_to_veto  \\\n",
       "first_seal_rage_quit_support second_seal_rage_quit_support modeled_reactions                      \n",
       "0.01                         0.1                           Accelerated                22.410000   \n",
       "                                                           Normal                     26.030000   \n",
       "                                                           Slowed                     31.185567   \n",
       "\n",
       "                                                                              median_time_to_veto  \\\n",
       "first_seal_rage_quit_support second_seal_rage_quit_support modeled_reactions                        \n",
       "0.01                         0.1                           Accelerated                       23.0   \n",
       "                                                           Normal                            26.0   \n",
       "                                                           Slowed                            31.0   \n",
       "\n",
       "                                                                              hours_mean_time_to_veto_hours  \\\n",
       "first_seal_rage_quit_support second_seal_rage_quit_support modeled_reactions                                  \n",
       "0.01                         0.1                           Accelerated                            67.230000   \n",
       "                                                           Normal                                 78.090000   \n",
       "                                                           Slowed                                 93.556701   \n",
       "\n",
       "                                                                              hours_median_time_to_veto_hours  \\\n",
       "first_seal_rage_quit_support second_seal_rage_quit_support modeled_reactions                                    \n",
       "0.01                         0.1                           Accelerated                                   69.0   \n",
       "                                                           Normal                                        78.0   \n",
       "                                                           Slowed                                        93.0   \n",
       "\n",
       "                                                                              total_runs  \n",
       "first_seal_rage_quit_support second_seal_rage_quit_support modeled_reactions              \n",
       "0.01                         0.1                           Accelerated               100  \n",
       "                                                           Normal                    100  \n",
       "                                                           Slowed                    100  "
      ]
     },
     "metadata": {},
     "output_type": "display_data"
    }
   ],
   "source": [
    "from experiments.analysis_utils.metrics import analyze_veto_timing_by_seals\n",
    "\n",
    "veto_stats = analyze_veto_timing_by_seals(timestep_data_df_full, start_data_df_full, additional_columns=('modeled_reactions',))\n",
    "print(\"Veto statistics by seal parameters:\")\n",
    "display(veto_stats)"
   ]
  },
  {
   "cell_type": "code",
   "execution_count": 38,
   "metadata": {},
   "outputs": [
    {
     "data": {
      "text/plain": [
       "<seaborn.axisgrid.FacetGrid at 0x7fee3155aea0>"
      ]
     },
     "execution_count": 38,
     "metadata": {},
     "output_type": "execute_result"
    },
    {
     "data": {
      "image/png": "[encoded data removed]",
      "text/plain": [
       "<Figure size 1500x500 with 3 Axes>"
      ]
     },
     "metadata": {},
     "output_type": "display_data"
    }
   ],
   "source": [
    "timestep_data_df_full_start = timestep_data_df_full[timestep_data_df_full['timestep'] == 1]\n",
    "timestep_data_df_full_start = timestep_data_df_full_start.merge(start_data_df_full, on='run_id', how='left')\n",
    "timestep_data_df_full_start['quick_share'] = timestep_data_df_full_start.balance_Quick / timestep_data_df_full_start.actors_total_balance\n",
    "timestep_data_df_full_start['normal_share'] = timestep_data_df_full_start.balance_Normal / timestep_data_df_full_start.actors_total_balance\n",
    "sns.set_style('darkgrid')\n",
    "sns.displot(timestep_data_df_full_start, x='quick_share', col='modeled_reactions', kind='hist')\n"
   ]
  },
  {
   "cell_type": "code",
   "execution_count": 40,
   "metadata": {},
   "outputs": [
    {
     "data": {
      "text/plain": [
       "<seaborn.axisgrid.FacetGrid at 0x7fee315b0560>"
      ]
     },
     "execution_count": 40,
     "metadata": {},
     "output_type": "execute_result"
    },
    {
     "data": {
      "image/png": "[encoded data removed]",
      "text/plain": [
       "<Figure size 1500x500 with 3 Axes>"
      ]
     },
     "metadata": {},
     "output_type": "display_data"
    }
   ],
   "source": [
    "sns.displot(timestep_data_df_full_start, x='normal_share', col='modeled_reactions', kind='hist')\n"
   ]
  },
  {
   "cell_type": "code",
   "execution_count": 35,
   "metadata": {},
   "outputs": [
    {
     "data": {
      "text/plain": [
       "<seaborn.axisgrid.FacetGrid at 0x7fee2fa5c320>"
      ]
     },
     "execution_count": 35,
     "metadata": {},
     "output_type": "execute_result"
    },
    {
     "data": {
      "image/png": "[encoded data removed]",
      "text/plain": [
       "<Figure size 1511.11x500 with 3 Axes>"
      ]
     },
     "metadata": {},
     "output_type": "display_data"
    }
   ],
   "source": [
    "sns.catplot(timestep_data_df_full_start, y='quick_share', col='modeled_reactions', kind='box')"
   ]
  },
  {
   "cell_type": "code",
   "execution_count": 41,
   "metadata": {},
   "outputs": [
    {
     "data": {
      "text/plain": [
       "<seaborn.axisgrid.FacetGrid at 0x7fee24bddd90>"
      ]
     },
     "execution_count": 41,
     "metadata": {},
     "output_type": "execute_result"
    },
    {
     "data": {
      "image/png": "[encoded data removed]",
      "text/plain": [
       "<Figure size 1511.11x500 with 3 Axes>"
      ]
     },
     "metadata": {},
     "output_type": "display_data"
    }
   ],
   "source": [
    "sns.catplot(timestep_data_df_full_start, y='normal_share', col='modeled_reactions', kind='box')"
   ]
  },
  {
   "cell_type": "code",
   "execution_count": 24,
   "metadata": {},
   "outputs": [
    {
     "name": "stdout",
     "output_type": "stream",
     "text": [
      "Ragequit statistics by seal parameters:\n"
     ]
    },
    {
     "data": {
      "text/html": [
       "<div>\n",
       "<style scoped>\n",
       "    .dataframe tbody tr th:only-of-type {\n",
       "        vertical-align: middle;\n",
       "    }\n",
       "\n",
       "    .dataframe tbody tr th {\n",
       "        vertical-align: top;\n",
       "    }\n",
       "\n",
       "    .dataframe thead th {\n",
       "        text-align: right;\n",
       "    }\n",
       "</style>\n",
       "<table border=\"1\" class=\"dataframe\">\n",
       "  <thead>\n",
       "    <tr style=\"text-align: right;\">\n",
       "      <th></th>\n",
       "      <th></th>\n",
       "      <th></th>\n",
       "      <th>ragequit_rate</th>\n",
       "      <th>mean_time_to_ragequit</th>\n",
       "      <th>median_time_to_ragequit</th>\n",
       "      <th>hours_mean_time_to_ragequit_hours</th>\n",
       "      <th>hours_median_time_to_ragequit_hours</th>\n",
       "      <th>total_runs</th>\n",
       "    </tr>\n",
       "    <tr>\n",
       "      <th>first_seal_rage_quit_support</th>\n",
       "      <th>second_seal_rage_quit_support</th>\n",
       "      <th>modeled_reactions</th>\n",
       "      <th></th>\n",
       "      <th></th>\n",
       "      <th></th>\n",
       "      <th></th>\n",
       "      <th></th>\n",
       "      <th></th>\n",
       "    </tr>\n",
       "  </thead>\n",
       "  <tbody>\n",
       "    <tr>\n",
       "      <th rowspan=\"3\" valign=\"top\">0.01</th>\n",
       "      <th rowspan=\"3\" valign=\"top\">0.1</th>\n",
       "      <th>Accelerated</th>\n",
       "      <td>100.0</td>\n",
       "      <td>382.410000</td>\n",
       "      <td>383.0</td>\n",
       "      <td>1147.230000</td>\n",
       "      <td>1149.0</td>\n",
       "      <td>100</td>\n",
       "    </tr>\n",
       "    <tr>\n",
       "      <th>Normal</th>\n",
       "      <td>100.0</td>\n",
       "      <td>386.030000</td>\n",
       "      <td>386.0</td>\n",
       "      <td>1158.090000</td>\n",
       "      <td>1158.0</td>\n",
       "      <td>100</td>\n",
       "    </tr>\n",
       "    <tr>\n",
       "      <th>Slowed</th>\n",
       "      <td>97.0</td>\n",
       "      <td>391.185567</td>\n",
       "      <td>391.0</td>\n",
       "      <td>1173.556701</td>\n",
       "      <td>1173.0</td>\n",
       "      <td>100</td>\n",
       "    </tr>\n",
       "  </tbody>\n",
       "</table>\n",
       "</div>"
      ],
      "text/plain": [
       "                                                                              ragequit_rate  \\\n",
       "first_seal_rage_quit_support second_seal_rage_quit_support modeled_reactions                  \n",
       "0.01                         0.1                           Accelerated                100.0   \n",
       "                                                           Normal                     100.0   \n",
       "                                                           Slowed                      97.0   \n",
       "\n",
       "                                                                              mean_time_to_ragequit  \\\n",
       "first_seal_rage_quit_support second_seal_rage_quit_support modeled_reactions                          \n",
       "0.01                         0.1                           Accelerated                   382.410000   \n",
       "                                                           Normal                        386.030000   \n",
       "                                                           Slowed                        391.185567   \n",
       "\n",
       "                                                                              median_time_to_ragequit  \\\n",
       "first_seal_rage_quit_support second_seal_rage_quit_support modeled_reactions                            \n",
       "0.01                         0.1                           Accelerated                          383.0   \n",
       "                                                           Normal                               386.0   \n",
       "                                                           Slowed                               391.0   \n",
       "\n",
       "                                                                              hours_mean_time_to_ragequit_hours  \\\n",
       "first_seal_rage_quit_support second_seal_rage_quit_support modeled_reactions                                      \n",
       "0.01                         0.1                           Accelerated                              1147.230000   \n",
       "                                                           Normal                                   1158.090000   \n",
       "                                                           Slowed                                   1173.556701   \n",
       "\n",
       "                                                                              hours_median_time_to_ragequit_hours  \\\n",
       "first_seal_rage_quit_support second_seal_rage_quit_support modeled_reactions                                        \n",
       "0.01                         0.1                           Accelerated                                     1149.0   \n",
       "                                                           Normal                                          1158.0   \n",
       "                                                           Slowed                                          1173.0   \n",
       "\n",
       "                                                                              total_runs  \n",
       "first_seal_rage_quit_support second_seal_rage_quit_support modeled_reactions              \n",
       "0.01                         0.1                           Accelerated               100  \n",
       "                                                           Normal                    100  \n",
       "                                                           Slowed                    100  "
      ]
     },
     "metadata": {},
     "output_type": "display_data"
    }
   ],
   "source": [
    "from experiments.analysis_utils.metrics import analyze_ragequit_timing_by_seals\n",
    "\n",
    "ragequit_stats = analyze_ragequit_timing_by_seals(timestep_data_df_full, start_data_df_full, additional_columns=('modeled_reactions',))\n",
    "print(\"Ragequit statistics by seal parameters:\")\n",
    "display(ragequit_stats)"
   ]
  },
  {
   "cell_type": "markdown",
   "metadata": {},
   "source": [
    "# Veto Seal Data"
   ]
  },
  {
   "cell_type": "code",
   "execution_count": 2,
   "metadata": {},
   "outputs": [
    {
     "name": "stdout",
     "output_type": "stream",
     "text": [
      "/home/rotsker/PycharmProjects/dg-research-revision/results/simulations/withdrawal_queue_replacement_vetoseal_study\n",
      "True\n"
     ]
    }
   ],
   "source": [
    "# Read the data\n",
    "path_to_runs = Path(\"../../results/simulations/withdrawal_queue_replacement_vetoseal_study/\")\n",
    "# path_to_runs = Path(\"../../results/simulations/model_validation/\")\n",
    "print(path_to_runs.resolve())\n",
    "print(path_to_runs.resolve().exists())\n",
    "vetoseal_proposal_df_full, vetoseal_start_data_df_full, vetoseal_timestep_data_df_full = read_directory(path_to_runs.resolve())"
   ]
  },
  {
   "cell_type": "code",
   "execution_count": 22,
   "metadata": {},
   "outputs": [
    {
     "name": "stdout",
     "output_type": "stream",
     "text": [
      "Veto statistics by seal parameters:\n"
     ]
    },
    {
     "data": {
      "text/html": [
       "<div>\n",
       "<style scoped>\n",
       "    .dataframe tbody tr th:only-of-type {\n",
       "        vertical-align: middle;\n",
       "    }\n",
       "\n",
       "    .dataframe tbody tr th {\n",
       "        vertical-align: top;\n",
       "    }\n",
       "\n",
       "    .dataframe thead th {\n",
       "        text-align: right;\n",
       "    }\n",
       "</style>\n",
       "<table border=\"1\" class=\"dataframe\">\n",
       "  <thead>\n",
       "    <tr style=\"text-align: right;\">\n",
       "      <th></th>\n",
       "      <th></th>\n",
       "      <th>veto_rate</th>\n",
       "      <th>mean_time_to_veto</th>\n",
       "      <th>median_time_to_veto</th>\n",
       "      <th>hours_mean_time_to_veto_hours</th>\n",
       "      <th>hours_median_time_to_veto_hours</th>\n",
       "      <th>total_runs</th>\n",
       "    </tr>\n",
       "    <tr>\n",
       "      <th>first_seal_rage_quit_support</th>\n",
       "      <th>second_seal_rage_quit_support</th>\n",
       "      <th></th>\n",
       "      <th></th>\n",
       "      <th></th>\n",
       "      <th></th>\n",
       "      <th></th>\n",
       "      <th></th>\n",
       "    </tr>\n",
       "  </thead>\n",
       "  <tbody>\n",
       "    <tr>\n",
       "      <th>0.0050</th>\n",
       "      <th>0.05</th>\n",
       "      <td>100.000000</td>\n",
       "      <td>21.528302</td>\n",
       "      <td>22.0</td>\n",
       "      <td>64.584906</td>\n",
       "      <td>66.0</td>\n",
       "      <td>106</td>\n",
       "    </tr>\n",
       "    <tr>\n",
       "      <th>0.0075</th>\n",
       "      <th>0.05</th>\n",
       "      <td>100.000000</td>\n",
       "      <td>24.028302</td>\n",
       "      <td>24.0</td>\n",
       "      <td>72.084906</td>\n",
       "      <td>72.0</td>\n",
       "      <td>106</td>\n",
       "    </tr>\n",
       "    <tr>\n",
       "      <th>0.0100</th>\n",
       "      <th>0.05</th>\n",
       "      <td>100.000000</td>\n",
       "      <td>26.028302</td>\n",
       "      <td>26.0</td>\n",
       "      <td>78.084906</td>\n",
       "      <td>78.0</td>\n",
       "      <td>106</td>\n",
       "    </tr>\n",
       "    <tr>\n",
       "      <th>0.0125</th>\n",
       "      <th>0.05</th>\n",
       "      <td>100.000000</td>\n",
       "      <td>28.226415</td>\n",
       "      <td>28.0</td>\n",
       "      <td>84.679245</td>\n",
       "      <td>84.0</td>\n",
       "      <td>106</td>\n",
       "    </tr>\n",
       "    <tr>\n",
       "      <th>0.0200</th>\n",
       "      <th>0.05</th>\n",
       "      <td>16.666667</td>\n",
       "      <td>37.437500</td>\n",
       "      <td>38.0</td>\n",
       "      <td>112.312500</td>\n",
       "      <td>114.0</td>\n",
       "      <td>96</td>\n",
       "    </tr>\n",
       "    <tr>\n",
       "      <th>0.0300</th>\n",
       "      <th>0.05</th>\n",
       "      <td>0.000000</td>\n",
       "      <td>NaN</td>\n",
       "      <td>NaN</td>\n",
       "      <td>NaN</td>\n",
       "      <td>NaN</td>\n",
       "      <td>96</td>\n",
       "    </tr>\n",
       "  </tbody>\n",
       "</table>\n",
       "</div>"
      ],
      "text/plain": [
       "                                                             veto_rate  \\\n",
       "first_seal_rage_quit_support second_seal_rage_quit_support               \n",
       "0.0050                       0.05                           100.000000   \n",
       "0.0075                       0.05                           100.000000   \n",
       "0.0100                       0.05                           100.000000   \n",
       "0.0125                       0.05                           100.000000   \n",
       "0.0200                       0.05                            16.666667   \n",
       "0.0300                       0.05                             0.000000   \n",
       "\n",
       "                                                            mean_time_to_veto  \\\n",
       "first_seal_rage_quit_support second_seal_rage_quit_support                      \n",
       "0.0050                       0.05                                   21.528302   \n",
       "0.0075                       0.05                                   24.028302   \n",
       "0.0100                       0.05                                   26.028302   \n",
       "0.0125                       0.05                                   28.226415   \n",
       "0.0200                       0.05                                   37.437500   \n",
       "0.0300                       0.05                                         NaN   \n",
       "\n",
       "                                                            median_time_to_veto  \\\n",
       "first_seal_rage_quit_support second_seal_rage_quit_support                        \n",
       "0.0050                       0.05                                          22.0   \n",
       "0.0075                       0.05                                          24.0   \n",
       "0.0100                       0.05                                          26.0   \n",
       "0.0125                       0.05                                          28.0   \n",
       "0.0200                       0.05                                          38.0   \n",
       "0.0300                       0.05                                           NaN   \n",
       "\n",
       "                                                            hours_mean_time_to_veto_hours  \\\n",
       "first_seal_rage_quit_support second_seal_rage_quit_support                                  \n",
       "0.0050                       0.05                                               64.584906   \n",
       "0.0075                       0.05                                               72.084906   \n",
       "0.0100                       0.05                                               78.084906   \n",
       "0.0125                       0.05                                               84.679245   \n",
       "0.0200                       0.05                                              112.312500   \n",
       "0.0300                       0.05                                                     NaN   \n",
       "\n",
       "                                                            hours_median_time_to_veto_hours  \\\n",
       "first_seal_rage_quit_support second_seal_rage_quit_support                                    \n",
       "0.0050                       0.05                                                      66.0   \n",
       "0.0075                       0.05                                                      72.0   \n",
       "0.0100                       0.05                                                      78.0   \n",
       "0.0125                       0.05                                                      84.0   \n",
       "0.0200                       0.05                                                     114.0   \n",
       "0.0300                       0.05                                                       NaN   \n",
       "\n",
       "                                                            total_runs  \n",
       "first_seal_rage_quit_support second_seal_rage_quit_support              \n",
       "0.0050                       0.05                                  106  \n",
       "0.0075                       0.05                                  106  \n",
       "0.0100                       0.05                                  106  \n",
       "0.0125                       0.05                                  106  \n",
       "0.0200                       0.05                                   96  \n",
       "0.0300                       0.05                                   96  "
      ]
     },
     "metadata": {},
     "output_type": "display_data"
    }
   ],
   "source": [
    "from experiments.analysis_utils.metrics import analyze_veto_timing_by_seals\n",
    "\n",
    "veto_stats = analyze_veto_timing_by_seals(vetoseal_timestep_data_df_full, vetoseal_start_data_df_full, additional_columns=tuple())\n",
    "print(\"Veto statistics by seal parameters:\")\n",
    "display(veto_stats)"
   ]
  },
  {
   "cell_type": "code",
   "execution_count": null,
   "metadata": {},
   "outputs": [],
   "source": []
  },
  {
   "cell_type": "markdown",
   "metadata": {},
   "source": [
    "# RageQuit data"
   ]
  },
  {
   "cell_type": "code",
   "execution_count": 18,
   "metadata": {},
   "outputs": [
    {
     "name": "stdout",
     "output_type": "stream",
     "text": [
      "/home/rotsker/PycharmProjects/dg-research-revision/results/simulations/withdrawal_queue_replacement_rageseal_study\n",
      "True\n"
     ]
    }
   ],
   "source": [
    "# Read the data\n",
    "path_to_runs = Path(\"../../results/simulations/withdrawal_queue_replacement_rageseal_study/\")\n",
    "# path_to_runs = Path(\"../../results/simulations/model_validation/\")\n",
    "print(path_to_runs.resolve())\n",
    "print(path_to_runs.resolve().exists())\n",
    "ragequit_proposal_df_full, ragequit_start_data_df_full, ragequit_timestep_data_df_full = read_directory(path_to_runs.resolve())"
   ]
  },
  {
   "cell_type": "code",
   "execution_count": 25,
   "metadata": {},
   "outputs": [
    {
     "name": "stdout",
     "output_type": "stream",
     "text": [
      "Ragequit statistics by seal parameters:\n"
     ]
    },
    {
     "data": {
      "text/html": [
       "<div>\n",
       "<style scoped>\n",
       "    .dataframe tbody tr th:only-of-type {\n",
       "        vertical-align: middle;\n",
       "    }\n",
       "\n",
       "    .dataframe tbody tr th {\n",
       "        vertical-align: top;\n",
       "    }\n",
       "\n",
       "    .dataframe thead th {\n",
       "        text-align: right;\n",
       "    }\n",
       "</style>\n",
       "<table border=\"1\" class=\"dataframe\">\n",
       "  <thead>\n",
       "    <tr style=\"text-align: right;\">\n",
       "      <th></th>\n",
       "      <th></th>\n",
       "      <th>ragequit_rate</th>\n",
       "      <th>mean_time_to_ragequit</th>\n",
       "      <th>median_time_to_ragequit</th>\n",
       "      <th>hours_mean_time_to_ragequit_hours</th>\n",
       "      <th>hours_median_time_to_ragequit_hours</th>\n",
       "      <th>total_runs</th>\n",
       "    </tr>\n",
       "    <tr>\n",
       "      <th>first_seal_rage_quit_support</th>\n",
       "      <th>second_seal_rage_quit_support</th>\n",
       "      <th></th>\n",
       "      <th></th>\n",
       "      <th></th>\n",
       "      <th></th>\n",
       "      <th></th>\n",
       "      <th></th>\n",
       "    </tr>\n",
       "  </thead>\n",
       "  <tbody>\n",
       "    <tr>\n",
       "      <th rowspan=\"5\" valign=\"top\">0.005</th>\n",
       "      <th>0.050</th>\n",
       "      <td>100.0</td>\n",
       "      <td>381.56</td>\n",
       "      <td>382.0</td>\n",
       "      <td>1144.68</td>\n",
       "      <td>1146.0</td>\n",
       "      <td>100</td>\n",
       "    </tr>\n",
       "    <tr>\n",
       "      <th>0.075</th>\n",
       "      <td>100.0</td>\n",
       "      <td>381.56</td>\n",
       "      <td>382.0</td>\n",
       "      <td>1144.68</td>\n",
       "      <td>1146.0</td>\n",
       "      <td>100</td>\n",
       "    </tr>\n",
       "    <tr>\n",
       "      <th>0.100</th>\n",
       "      <td>100.0</td>\n",
       "      <td>381.56</td>\n",
       "      <td>382.0</td>\n",
       "      <td>1144.68</td>\n",
       "      <td>1146.0</td>\n",
       "      <td>100</td>\n",
       "    </tr>\n",
       "    <tr>\n",
       "      <th>0.125</th>\n",
       "      <td>100.0</td>\n",
       "      <td>381.56</td>\n",
       "      <td>382.0</td>\n",
       "      <td>1144.68</td>\n",
       "      <td>1146.0</td>\n",
       "      <td>100</td>\n",
       "    </tr>\n",
       "    <tr>\n",
       "      <th>0.150</th>\n",
       "      <td>100.0</td>\n",
       "      <td>381.56</td>\n",
       "      <td>382.0</td>\n",
       "      <td>1144.68</td>\n",
       "      <td>1146.0</td>\n",
       "      <td>100</td>\n",
       "    </tr>\n",
       "  </tbody>\n",
       "</table>\n",
       "</div>"
      ],
      "text/plain": [
       "                                                            ragequit_rate  \\\n",
       "first_seal_rage_quit_support second_seal_rage_quit_support                  \n",
       "0.005                        0.050                                  100.0   \n",
       "                             0.075                                  100.0   \n",
       "                             0.100                                  100.0   \n",
       "                             0.125                                  100.0   \n",
       "                             0.150                                  100.0   \n",
       "\n",
       "                                                            mean_time_to_ragequit  \\\n",
       "first_seal_rage_quit_support second_seal_rage_quit_support                          \n",
       "0.005                        0.050                                         381.56   \n",
       "                             0.075                                         381.56   \n",
       "                             0.100                                         381.56   \n",
       "                             0.125                                         381.56   \n",
       "                             0.150                                         381.56   \n",
       "\n",
       "                                                            median_time_to_ragequit  \\\n",
       "first_seal_rage_quit_support second_seal_rage_quit_support                            \n",
       "0.005                        0.050                                            382.0   \n",
       "                             0.075                                            382.0   \n",
       "                             0.100                                            382.0   \n",
       "                             0.125                                            382.0   \n",
       "                             0.150                                            382.0   \n",
       "\n",
       "                                                            hours_mean_time_to_ragequit_hours  \\\n",
       "first_seal_rage_quit_support second_seal_rage_quit_support                                      \n",
       "0.005                        0.050                                                    1144.68   \n",
       "                             0.075                                                    1144.68   \n",
       "                             0.100                                                    1144.68   \n",
       "                             0.125                                                    1144.68   \n",
       "                             0.150                                                    1144.68   \n",
       "\n",
       "                                                            hours_median_time_to_ragequit_hours  \\\n",
       "first_seal_rage_quit_support second_seal_rage_quit_support                                        \n",
       "0.005                        0.050                                                       1146.0   \n",
       "                             0.075                                                       1146.0   \n",
       "                             0.100                                                       1146.0   \n",
       "                             0.125                                                       1146.0   \n",
       "                             0.150                                                       1146.0   \n",
       "\n",
       "                                                            total_runs  \n",
       "first_seal_rage_quit_support second_seal_rage_quit_support              \n",
       "0.005                        0.050                                 100  \n",
       "                             0.075                                 100  \n",
       "                             0.100                                 100  \n",
       "                             0.125                                 100  \n",
       "                             0.150                                 100  "
      ]
     },
     "metadata": {},
     "output_type": "display_data"
    }
   ],
   "source": [
    "from experiments.analysis_utils.metrics import analyze_ragequit_timing_by_seals\n",
    "\n",
    "ragequit_stats = analyze_ragequit_timing_by_seals(ragequit_timestep_data_df_full, ragequit_start_data_df_full, additional_columns=tuple())\n",
    "print(\"Ragequit statistics by seal parameters:\")\n",
    "display(ragequit_stats)"
   ]
  },
  {
   "cell_type": "markdown",
   "metadata": {},
   "source": []
  }
 ],
 "metadata": {
  "kernelspec": {
   "display_name": "radCAD",
   "language": "python",
   "name": "python3"
  },
  "language_info": {
   "codemirror_mode": {
    "name": "ipython",
    "version": 3
   },
   "file_extension": ".py",
   "mimetype": "text/x-python",
   "name": "python",
   "nbconvert_exporter": "python",
   "pygments_lexer": "ipython3",
   "version": "3.12.5"
  }
 },
 "nbformat": 4,
 "nbformat_minor": 2
}
