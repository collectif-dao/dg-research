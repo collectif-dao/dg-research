{
 "cells": [
  {
   "cell_type": "code",
   "execution_count": 19,
   "metadata": {},
   "outputs": [
    {
     "name": "stdout",
     "output_type": "stream",
     "text": [
      "The autoreload extension is already loaded. To reload it, use:\n",
      "  %reload_ext autoreload\n",
      "['/home/rotsker/PycharmProjects/dg-research-revision', '/home/rotsker/PycharmProjects/dg-research-revision', '/home/rotsker/PycharmProjects/dg-research-revision', '/home/rotsker/PycharmProjects/dg-research-revision', '/home/rotsker/PycharmProjects/dg-research-revision', '/home/rotsker/PycharmProjects/dg-research-revision', '/home/rotsker/miniconda3/envs/radCAD/lib/python312.zip', '/home/rotsker/miniconda3/envs/radCAD/lib/python3.12', '/home/rotsker/miniconda3/envs/radCAD/lib/python3.12/lib-dynload', '', '/home/rotsker/miniconda3/envs/radCAD/lib/python3.12/site-packages']\n"
     ]
    }
   ],
   "source": [
    "%load_ext autoreload\n",
    "%autoreload 2\n",
    "import sys\n",
    "from pathlib import Path\n",
    "project_root = Path.cwd().parent.parent  # Assuming notebook is in experiments/notebooks/\n",
    "sys.path.insert(0, str(project_root))\n",
    "print(sys.path)\n",
    "import pandas as pd\n",
    "import matplotlib.pyplot as plt\n",
    "from experiments.analysis_utils.data_processing import read_directory\n",
    "from experiments.analysis_utils.visualization import plot_reaction_speed_distribution, plot_token_distribution"
   ]
  },
  {
   "cell_type": "code",
   "execution_count": 20,
   "metadata": {},
   "outputs": [
    {
     "name": "stdout",
     "output_type": "stream",
     "text": [
      "/home/rotsker/PycharmProjects/dg-research-revision/results/simulations/actors_labelling\n",
      "True\n"
     ]
    }
   ],
   "source": [
    "# Read the data\n",
    "path_to_runs = Path(\"../../results/simulations/actors_labelling/\")\n",
    "print(path_to_runs.resolve())\n",
    "print(path_to_runs.resolve().exists())\n",
    "proposal_df_full, start_data_df_full, timestep_data_df_full = read_directory(path_to_runs.resolve())"
   ]
  },
  {
   "cell_type": "markdown",
   "metadata": {},
   "source": [
    "Assume that we sweep over counter_label_percentage. It is how it is called in the start_data_df. Then the cell below should work"
   ]
  },
  {
   "cell_type": "code",
   "execution_count": 21,
   "metadata": {},
   "outputs": [
    {
     "name": "stdout",
     "output_type": "stream",
     "text": [
      "Veto statistics by seal parameters:\n"
     ]
    },
    {
     "data": {
      "text/html": [
       "<div>\n",
       "<style scoped>\n",
       "    .dataframe tbody tr th:only-of-type {\n",
       "        vertical-align: middle;\n",
       "    }\n",
       "\n",
       "    .dataframe tbody tr th {\n",
       "        vertical-align: top;\n",
       "    }\n",
       "\n",
       "    .dataframe thead th {\n",
       "        text-align: right;\n",
       "    }\n",
       "</style>\n",
       "<table border=\"1\" class=\"dataframe\">\n",
       "  <thead>\n",
       "    <tr style=\"text-align: right;\">\n",
       "      <th></th>\n",
       "      <th></th>\n",
       "      <th></th>\n",
       "      <th>veto_rate</th>\n",
       "      <th>mean_time_to_veto</th>\n",
       "      <th>median_time_to_veto</th>\n",
       "      <th>hours_mean_time_to_veto_hours</th>\n",
       "      <th>hours_median_time_to_veto_hours</th>\n",
       "      <th>total_runs</th>\n",
       "      <th>attack_success_rate</th>\n",
       "      <th>n_successful_attacks</th>\n",
       "    </tr>\n",
       "    <tr>\n",
       "      <th>first_seal_rage_quit_support</th>\n",
       "      <th>second_seal_rage_quit_support</th>\n",
       "      <th>determining_factor</th>\n",
       "      <th></th>\n",
       "      <th></th>\n",
       "      <th></th>\n",
       "      <th></th>\n",
       "      <th></th>\n",
       "      <th></th>\n",
       "      <th></th>\n",
       "      <th></th>\n",
       "    </tr>\n",
       "  </thead>\n",
       "  <tbody>\n",
       "    <tr>\n",
       "      <th rowspan=\"7\" valign=\"top\">0.01</th>\n",
       "      <th rowspan=\"7\" valign=\"top\">0.1</th>\n",
       "      <th>25</th>\n",
       "      <td>0.000000</td>\n",
       "      <td>NaN</td>\n",
       "      <td>NaN</td>\n",
       "      <td>NaN</td>\n",
       "      <td>NaN</td>\n",
       "      <td>100</td>\n",
       "      <td>100.000000</td>\n",
       "      <td>100.0</td>\n",
       "    </tr>\n",
       "    <tr>\n",
       "      <th>37</th>\n",
       "      <td>0.000000</td>\n",
       "      <td>NaN</td>\n",
       "      <td>NaN</td>\n",
       "      <td>NaN</td>\n",
       "      <td>NaN</td>\n",
       "      <td>106</td>\n",
       "      <td>100.000000</td>\n",
       "      <td>106.0</td>\n",
       "    </tr>\n",
       "    <tr>\n",
       "      <th>43</th>\n",
       "      <td>1.079414</td>\n",
       "      <td>37.142857</td>\n",
       "      <td>37.0</td>\n",
       "      <td>111.428571</td>\n",
       "      <td>111.0</td>\n",
       "      <td>1297</td>\n",
       "      <td>98.920586</td>\n",
       "      <td>1283.0</td>\n",
       "    </tr>\n",
       "    <tr>\n",
       "      <th>46</th>\n",
       "      <td>2.020202</td>\n",
       "      <td>37.500000</td>\n",
       "      <td>37.5</td>\n",
       "      <td>112.500000</td>\n",
       "      <td>112.5</td>\n",
       "      <td>99</td>\n",
       "      <td>97.979798</td>\n",
       "      <td>97.0</td>\n",
       "    </tr>\n",
       "    <tr>\n",
       "      <th>62</th>\n",
       "      <td>91.000000</td>\n",
       "      <td>32.483516</td>\n",
       "      <td>32.0</td>\n",
       "      <td>97.450549</td>\n",
       "      <td>96.0</td>\n",
       "      <td>100</td>\n",
       "      <td>9.000000</td>\n",
       "      <td>9.0</td>\n",
       "    </tr>\n",
       "    <tr>\n",
       "      <th>69</th>\n",
       "      <td>99.100000</td>\n",
       "      <td>30.430878</td>\n",
       "      <td>30.0</td>\n",
       "      <td>91.292634</td>\n",
       "      <td>90.0</td>\n",
       "      <td>1000</td>\n",
       "      <td>0.900000</td>\n",
       "      <td>9.0</td>\n",
       "    </tr>\n",
       "    <tr>\n",
       "      <th>75</th>\n",
       "      <td>99.900000</td>\n",
       "      <td>29.096096</td>\n",
       "      <td>29.0</td>\n",
       "      <td>87.288288</td>\n",
       "      <td>87.0</td>\n",
       "      <td>1000</td>\n",
       "      <td>0.100000</td>\n",
       "      <td>1.0</td>\n",
       "    </tr>\n",
       "  </tbody>\n",
       "</table>\n",
       "</div>"
      ],
      "text/plain": [
       "                                                                               veto_rate  \\\n",
       "first_seal_rage_quit_support second_seal_rage_quit_support determining_factor              \n",
       "0.01                         0.1                           25                   0.000000   \n",
       "                                                           37                   0.000000   \n",
       "                                                           43                   1.079414   \n",
       "                                                           46                   2.020202   \n",
       "                                                           62                  91.000000   \n",
       "                                                           69                  99.100000   \n",
       "                                                           75                  99.900000   \n",
       "\n",
       "                                                                               mean_time_to_veto  \\\n",
       "first_seal_rage_quit_support second_seal_rage_quit_support determining_factor                      \n",
       "0.01                         0.1                           25                                NaN   \n",
       "                                                           37                                NaN   \n",
       "                                                           43                          37.142857   \n",
       "                                                           46                          37.500000   \n",
       "                                                           62                          32.483516   \n",
       "                                                           69                          30.430878   \n",
       "                                                           75                          29.096096   \n",
       "\n",
       "                                                                               median_time_to_veto  \\\n",
       "first_seal_rage_quit_support second_seal_rage_quit_support determining_factor                        \n",
       "0.01                         0.1                           25                                  NaN   \n",
       "                                                           37                                  NaN   \n",
       "                                                           43                                 37.0   \n",
       "                                                           46                                 37.5   \n",
       "                                                           62                                 32.0   \n",
       "                                                           69                                 30.0   \n",
       "                                                           75                                 29.0   \n",
       "\n",
       "                                                                               hours_mean_time_to_veto_hours  \\\n",
       "first_seal_rage_quit_support second_seal_rage_quit_support determining_factor                                  \n",
       "0.01                         0.1                           25                                            NaN   \n",
       "                                                           37                                            NaN   \n",
       "                                                           43                                     111.428571   \n",
       "                                                           46                                     112.500000   \n",
       "                                                           62                                      97.450549   \n",
       "                                                           69                                      91.292634   \n",
       "                                                           75                                      87.288288   \n",
       "\n",
       "                                                                               hours_median_time_to_veto_hours  \\\n",
       "first_seal_rage_quit_support second_seal_rage_quit_support determining_factor                                    \n",
       "0.01                         0.1                           25                                              NaN   \n",
       "                                                           37                                              NaN   \n",
       "                                                           43                                            111.0   \n",
       "                                                           46                                            112.5   \n",
       "                                                           62                                             96.0   \n",
       "                                                           69                                             90.0   \n",
       "                                                           75                                             87.0   \n",
       "\n",
       "                                                                               total_runs  \\\n",
       "first_seal_rage_quit_support second_seal_rage_quit_support determining_factor               \n",
       "0.01                         0.1                           25                         100   \n",
       "                                                           37                         106   \n",
       "                                                           43                        1297   \n",
       "                                                           46                          99   \n",
       "                                                           62                         100   \n",
       "                                                           69                        1000   \n",
       "                                                           75                        1000   \n",
       "\n",
       "                                                                               attack_success_rate  \\\n",
       "first_seal_rage_quit_support second_seal_rage_quit_support determining_factor                        \n",
       "0.01                         0.1                           25                           100.000000   \n",
       "                                                           37                           100.000000   \n",
       "                                                           43                            98.920586   \n",
       "                                                           46                            97.979798   \n",
       "                                                           62                             9.000000   \n",
       "                                                           69                             0.900000   \n",
       "                                                           75                             0.100000   \n",
       "\n",
       "                                                                               n_successful_attacks  \n",
       "first_seal_rage_quit_support second_seal_rage_quit_support determining_factor                        \n",
       "0.01                         0.1                           25                                 100.0  \n",
       "                                                           37                                 106.0  \n",
       "                                                           43                                1283.0  \n",
       "                                                           46                                  97.0  \n",
       "                                                           62                                   9.0  \n",
       "                                                           69                                   9.0  \n",
       "                                                           75                                   1.0  "
      ]
     },
     "metadata": {},
     "output_type": "display_data"
    }
   ],
   "source": [
    "from experiments.analysis_utils.metrics import analyze_veto_timing_by_seals\n",
    "\n",
    "veto_stats = analyze_veto_timing_by_seals(timestep_data_df_full, start_data_df_full, additional_columns=('determining_factor',))\n",
    "veto_stats['attack_success_rate'] = 100 - veto_stats['veto_rate']\n",
    "veto_stats['n_successful_attacks'] = veto_stats['attack_success_rate'] / 100 * veto_stats['total_runs']\n",
    "print(\"Veto statistics by seal parameters:\")\n",
    "display(veto_stats)"
   ]
  },
  {
   "cell_type": "code",
   "execution_count": 26,
   "metadata": {},
   "outputs": [
    {
     "data": {
      "text/plain": [
       "[40, 43, 46, 49, 52, 55, 58, 61, 64, 67, 70, 73, 76]"
      ]
     },
     "execution_count": 26,
     "metadata": {},
     "output_type": "execute_result"
    }
   ],
   "source": [
    "import numpy as np\n",
    "np.arange(40,79,3)\n",
    "[40, 43, 46, 49, 52, 55, 58, 61, 64, 67, 70, 73, 76]"
   ]
  },
  {
   "cell_type": "markdown",
   "metadata": {},
   "source": [
    "Now what experiments should we do? I propose binary search approach. Assume we want to find counter_label_percentage=H such that veto_rate is 0%. We know that at H=0 veto_rate is 100%. We also know that at H=100 veto_rate is 0%. You've already tried H=50 and veto_rate was >0%. So we should try H=75. If veto_rate at H=75 is still >0% we should try H=87.5. And so on until we find the value of H where veto_rate is 0%.\n",
    "\n",
    "Similarly, we can find the value of L such that veto_rate is 100%. We know that at L=0 veto_rate is 100%, and at L=50 veto_rate is <100%. So we should try L=25. If veto_rate at L=25 is still <100% we should try L=12.5. And so on until we find the value of L where veto_rate is 100%."
   ]
  },
  {
   "cell_type": "markdown",
   "metadata": {},
   "source": []
  }
 ],
 "metadata": {
  "kernelspec": {
   "display_name": "radCAD",
   "language": "python",
   "name": "python3"
  },
  "language_info": {
   "codemirror_mode": {
    "name": "ipython",
    "version": 3
   },
   "file_extension": ".py",
   "mimetype": "text/x-python",
   "name": "python",
   "nbconvert_exporter": "python",
   "pygments_lexer": "ipython3",
   "version": "3.12.5"
  }
 },
 "nbformat": 4,
 "nbformat_minor": 2
}
